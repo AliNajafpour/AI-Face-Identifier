{
  "cells": [
    {
      "cell_type": "code",
      "execution_count": null,
      "metadata": {
        "id": "O1N2PXOvJkuL"
      },
      "outputs": [],
      "source": [
        "import cv2\n",
        "import numpy as np\n",
        "from deepface import DeepFace\n",
        "import numpy as np\n",
        "from scipy.spatial.distance import cosine, euclidean\n",
        "import pickle\n",
        "import os\n",
        "from pathlib import Path\n",
        "from deepface import DeepFace\n",
        "import argparse"
      ]
    },
    {
      "cell_type": "code",
      "execution_count": 2,
      "metadata": {
        "id": "m7Hy__QRJkuM"
      },
      "outputs": [],
      "source": [
        "def embedding(image, model='ArcFace'):\n",
        "    result = DeepFace.represent(img_path=image, model_name=model, enforce_detection=False)\n",
        "    embedding = result[0][\"embedding\"]\n",
        "    return np.array(embedding)"
      ]
    },
    {
      "cell_type": "code",
      "execution_count": 3,
      "metadata": {
        "id": "RE544rcIJkuN"
      },
      "outputs": [],
      "source": [
        "def preprocess_image(image_path, size=(160, 160)):\n",
        "    img = cv2.imread(image_path)\n",
        "\n",
        "    gray = cv2.cvtColor(img, cv2.COLOR_BGR2GRAY)\n",
        "\n",
        "    clahe = cv2.createCLAHE(clipLimit=2.0, tileGridSize=(8, 8))\n",
        "    enhanced = clahe.apply(gray)\n",
        "\n",
        "    enhanced_bgr = cv2.cvtColor(enhanced, cv2.COLOR_GRAY2BGR)\n",
        "\n",
        "    bright = cv2.convertScaleAbs(enhanced_bgr, alpha=1.1, beta=10)\n",
        "\n",
        "    result = cv2.resize(bright, size, interpolation=cv2.INTER_LINEAR)\n",
        "\n",
        "    return result"
      ]
    },
    {
      "cell_type": "code",
      "execution_count": null,
      "metadata": {
        "id": "_373Bz0LSx8s"
      },
      "outputs": [],
      "source": [
        "def cosine_similarity(emb1, emb2):\n",
        "    if emb1 is None or emb2 is None:\n",
        "        return -1.0\n",
        "    emb1 = emb1 / np.linalg.norm(emb1)\n",
        "    emb2 = emb2 / np.linalg.norm(emb2)\n",
        "    return np.dot(emb1, emb2)\n",
        "\n",
        "def find_matching_face(new_image_path, embeddings_dir, threshold=0.5):\n",
        "    new_embedding = embedding(new_image_path, model='ArcFace')\n",
        "    if new_embedding is None:\n",
        "        return {\n",
        "            \"match_found\": False,\n",
        "            \"message\": f\"Could not extract embedding from {new_image_path}\",\n",
        "            \"closest_match\": None,\n",
        "            \"similarity\": -1.0\n",
        "        }\n",
        "    similarity = cosine_similarity(new_embedding, embeddings_dir)\n",
        "    if similarity >= threshold:\n",
        "        return {\n",
        "            \"match_found\": True,\n",
        "            \"similarity\": similarity\n",
        "        }\n",
        "    else:\n",
        "        return {\n",
        "            \"match_found\": False,\n",
        "            \"similarity\": similarity\n",
        "        }\n"
      ]
    },
    {
      "cell_type": "code",
      "execution_count": 41,
      "metadata": {
        "id": "yhDsNqrCSzqF"
      },
      "outputs": [],
      "source": [
        "em1 = embedding('/content/AI-Face-Identifier/face test image/download.png')"
      ]
    },
    {
      "cell_type": "code",
      "execution_count": null,
      "metadata": {
        "colab": {
          "base_uri": "https://localhost:8080/"
        },
        "id": "Mcxz6YckTch8",
        "outputId": "d2a2a14b-f569-4417-ec45-0651f0bbcab7"
      },
      "outputs": [
        {
          "data": {
            "text/plain": [
              "{'match_found': True, 'similarity': np.float64(0.9033914203655482)}"
            ]
          },
          "execution_count": 47,
          "metadata": {},
          "output_type": "execute_result"
        }
      ],
      "source": [
        "find_matching_face('/content/AI-Face-Identifier/face test image/images.png', em1)"
      ]
    },
    {
      "cell_type": "code",
      "execution_count": null,
      "metadata": {
        "colab": {
          "base_uri": "https://localhost:8080/"
        },
        "id": "qvg4WdLGYGY9",
        "outputId": "77c8e667-e4e5-42cc-aea6-bbcf4a3a6b7c"
      },
      "outputs": [
        {
          "data": {
            "text/plain": [
              "{'match_found': True, 'similarity': np.float64(0.6890078163488114)}"
            ]
          },
          "execution_count": 48,
          "metadata": {},
          "output_type": "execute_result"
        }
      ],
      "source": [
        "find_matching_face('/content/AI-Face-Identifier/face test image/download1.png', em1)"
      ]
    },
    {
      "cell_type": "code",
      "execution_count": null,
      "metadata": {
        "colab": {
          "base_uri": "https://localhost:8080/"
        },
        "id": "o3aq4XC3YNdh",
        "outputId": "8bf52c8f-0b5c-4e09-f352-2858c3f50ab2"
      },
      "outputs": [
        {
          "data": {
            "text/plain": [
              "{'match_found': True, 'similarity': np.float64(0.5594492864025551)}"
            ]
          },
          "execution_count": 49,
          "metadata": {},
          "output_type": "execute_result"
        }
      ],
      "source": [
        "find_matching_face('/content/AI-Face-Identifier/face test image/images3.png', em1)"
      ]
    },
    {
      "cell_type": "code",
      "execution_count": null,
      "metadata": {
        "colab": {
          "base_uri": "https://localhost:8080/"
        },
        "id": "GfLOKJQnYGQV",
        "outputId": "1f0ea67c-3762-4eab-cd2a-7dbed435293d"
      },
      "outputs": [
        {
          "data": {
            "text/plain": [
              "{'match_found': False, 'similarity': np.float64(0.02054582041886698)}"
            ]
          },
          "execution_count": 50,
          "metadata": {},
          "output_type": "execute_result"
        }
      ],
      "source": [
        "find_matching_face('/content/AI-Face-Identifier/face test image/download4.png', em1)"
      ]
    },
    {
      "cell_type": "code",
      "execution_count": null,
      "metadata": {
        "colab": {
          "base_uri": "https://localhost:8080/"
        },
        "id": "xAqMDfE-YGDm",
        "outputId": "b50353cb-f330-41fa-f844-f1e18cb4df55"
      },
      "outputs": [
        {
          "data": {
            "text/plain": [
              "{'match_found': False, 'similarity': np.float64(0.1120935080123743)}"
            ]
          },
          "execution_count": 51,
          "metadata": {},
          "output_type": "execute_result"
        }
      ],
      "source": [
        "find_matching_face('/content/AI-Face-Identifier/face test image/download3.png', em1)"
      ]
    }
  ],
  "metadata": {
    "colab": {
      "provenance": []
    },
    "kernelspec": {
      "display_name": "env",
      "language": "python",
      "name": "python3"
    },
    "language_info": {
      "codemirror_mode": {
        "name": "ipython",
        "version": 3
      },
      "file_extension": ".py",
      "mimetype": "text/x-python",
      "name": "python",
      "nbconvert_exporter": "python",
      "pygments_lexer": "ipython3",
      "version": "3.11.4"
    }
  },
  "nbformat": 4,
  "nbformat_minor": 0
}
