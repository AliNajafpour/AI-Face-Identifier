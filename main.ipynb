{
  "cells": [
    {
      "cell_type": "code",
      "execution_count": 29,
      "metadata": {
        "id": "O1N2PXOvJkuL"
      },
      "outputs": [],
      "source": [
        "import cv2\n",
        "import numpy as np\n",
        "from deepface import DeepFace\n",
        "import numpy as np\n",
        "from scipy.spatial.distance import cosine, euclidean\n",
        "from pathlib import Path\n",
        "from deepface import DeepFace\n",
        "import os"
      ]
    },
    {
      "cell_type": "code",
      "execution_count": 3,
      "metadata": {
        "id": "m7Hy__QRJkuM"
      },
      "outputs": [],
      "source": [
        "def embedding(image, model='ArcFace'):\n",
        "    result = DeepFace.represent(img_path=image, model_name=model, enforce_detection=False)\n",
        "    embedding = result[0][\"embedding\"]\n",
        "    return np.array(embedding)"
      ]
    },
    {
      "cell_type": "code",
      "execution_count": 4,
      "metadata": {
        "id": "RE544rcIJkuN"
      },
      "outputs": [],
      "source": [
        "def preprocess_image(image_path, size=(160, 160)):\n",
        "    img = cv2.imread(image_path)\n",
        "\n",
        "    gray = cv2.cvtColor(img, cv2.COLOR_BGR2GRAY)\n",
        "\n",
        "    clahe = cv2.createCLAHE(clipLimit=2.0, tileGridSize=(8, 8))\n",
        "    enhanced = clahe.apply(gray)\n",
        "\n",
        "    enhanced_bgr = cv2.cvtColor(enhanced, cv2.COLOR_GRAY2BGR)\n",
        "\n",
        "    bright = cv2.convertScaleAbs(enhanced_bgr, alpha=1.1, beta=10)\n",
        "\n",
        "    result = cv2.resize(bright, size, interpolation=cv2.INTER_LINEAR)\n",
        "\n",
        "    return result"
      ]
    },
    {
      "cell_type": "code",
      "execution_count": 18,
      "metadata": {
        "id": "_373Bz0LSx8s"
      },
      "outputs": [],
      "source": [
        "def cosine_similarity(emb1, emb2):\n",
        "    if emb1 is None or emb2 is None:\n",
        "        return -1.0\n",
        "    emb1 = emb1 / np.linalg.norm(emb1)\n",
        "    emb2 = emb2 / np.linalg.norm(emb2)\n",
        "    return np.dot(emb1, emb2)\n"
      ]
    },
    {
      "cell_type": "code",
      "execution_count": 19,
      "metadata": {},
      "outputs": [],
      "source": [
        "def find_matching_face(new_image_path, image_path, threshold=0.5):\n",
        "    new_embedding = embedding(new_image_path, model='ArcFace')\n",
        "    img_embedding = embedding(image_path, model='ArcFace')\n",
        "    if new_embedding is None:\n",
        "        return {\n",
        "            \"match_found\": False,\n",
        "            \"message\": f\"Could not extract embedding from {new_image_path}\",\n",
        "            \"closest_match\": None,\n",
        "            \"similarity\": -1.0\n",
        "        }\n",
        "    similarity = cosine_similarity(new_embedding, img_embedding)\n",
        "    if similarity >= threshold:\n",
        "        return {\n",
        "            \"match_found\": True,\n",
        "            \"similarity\": similarity\n",
        "        }\n",
        "    else:\n",
        "        return {\n",
        "            \"match_found\": False,\n",
        "            \"similarity\": similarity\n",
        "        }"
      ]
    },
    {
      "cell_type": "code",
      "execution_count": null,
      "metadata": {},
      "outputs": [],
      "source": [
        "main_path = './test/download.png'\n",
        "lst = []\n",
        "result = []\n",
        "\n",
        "for path in os.listdir('./downloaded_images'):\n",
        "    if path.lower().endswith(('.jpg', '.jpeg', '.png')):\n",
        "        full_path = os.path.join('./downloaded_images', path)\n",
        "        x = find_matching_face(main_path, full_path)\n",
        "        lst.append(x)\n",
        "\n",
        "\n",
        "lst = lst.sort()\n",
        "for i, l in enumerate(lst):\n",
        "    if i == 3:\n",
        "        break\n",
        "    result.append(l)"
      ]
    }
  ],
  "metadata": {
    "colab": {
      "provenance": []
    },
    "kernelspec": {
      "display_name": "env",
      "language": "python",
      "name": "python3"
    },
    "language_info": {
      "codemirror_mode": {
        "name": "ipython",
        "version": 3
      },
      "file_extension": ".py",
      "mimetype": "text/x-python",
      "name": "python",
      "nbconvert_exporter": "python",
      "pygments_lexer": "ipython3",
      "version": "3.11.4"
    }
  },
  "nbformat": 4,
  "nbformat_minor": 0
}
